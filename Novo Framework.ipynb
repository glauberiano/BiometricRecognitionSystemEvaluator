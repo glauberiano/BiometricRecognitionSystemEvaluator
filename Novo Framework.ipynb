{
 "cells": [
  {
   "cell_type": "code",
   "execution_count": null,
   "metadata": {},
   "outputs": [],
   "source": [
    "#import packages\n",
    "import pandas as pd\n",
    "import numpy as np\n",
    "from collections import Counter\n",
    "import IPython.core.display as ipd\n",
    "import os\n",
    "import sys\n",
    "import time\n",
    "\n",
    "#set configurations\n",
    "pd.set_option('max_columns', 1000)\n",
    "pd.set_option('max_rows', 1000)\n",
    "\n",
    "from IPython.core.interactiveshell import InteractiveShell\n",
    "InteractiveShell.ast_node_interactivity = 'all'"
   ]
  },
  {
   "cell_type": "code",
   "execution_count": null,
   "metadata": {
    "scrolled": true
   },
   "outputs": [],
   "source": [
    "#dataset\n",
    "DSL = pd.read_csv('dados/DSL-StrongPasswordData.csv')\n",
    "DSL.head(20)\n",
    "DSL = DSL.drop(['sessionIndex', 'rep'], axis=1)"
   ]
  },
  {
   "cell_type": "code",
   "execution_count": null,
   "metadata": {},
   "outputs": [],
   "source": [
    "%load_ext autoreload\n",
    "%autoreload 2\n",
    "\n",
    "from Biometrics import RecognitionSystem"
   ]
  },
  {
   "cell_type": "code",
   "execution_count": null,
   "metadata": {},
   "outputs": [],
   "source": [
    "inic = time.time()\n",
    "\n",
    "param_grid = [\n",
    "    {'method':['Euclidian'],\n",
    "    'impostor_rate' : [0.3,0.5,0.7],\n",
    "    'model_size' : [40],\n",
    "    'rate_external_impostor' : [0,0.5,1],\n",
    "    'sampling': ['Random', 'GenFirst','ImpFirst'],\n",
    "    'normalize': [False,True],\n",
    "    'adaptive' : [False, 'GrowingWindow', 'SlidingWindow']},\n",
    "    {'method':['Euclidian'],\n",
    "    'impostor_rate' : [0.3,0.5,0.7],\n",
    "    'model_size' : [40],\n",
    "    'rate_external_impostor' : [0,0.5,1],\n",
    "    'sampling': ['SeriesAttack'],\n",
    "    'len_attacks' : [5],\n",
    "    'normalize': [False,True],\n",
    "    'adaptive' : [False, 'GrowingWindow', 'SlidingWindow']},\n",
    "    {'method':['M2005'],\n",
    "    'impostor_rate' : [0.3,0.5,0.7],\n",
    "    'model_size' : [40],\n",
    "    'rate_external_impostor' : [0,0.5,1],\n",
    "    'sampling': ['Random', 'GenFirst','ImpFirst'],\n",
    "    'normalize': [False,True],\n",
    "    'adaptive' : [False, 'GrowingWindow', 'SlidingWindow']},\n",
    "    {'method':['M2005'],\n",
    "    'impostor_rate' : [0.3,0.5,0.7],\n",
    "    'model_size' : [40],\n",
    "    'rate_external_impostor' : [0,0.5,1],\n",
    "    'sampling': ['SeriesAttack'],\n",
    "    'len_attacks' : [5],\n",
    "    'normalize': [False,True],\n",
    "    'adaptive' : [False, 'GrowingWindow', 'SlidingWindow']}\n",
    "]\n",
    "\n",
    "\n",
    "System = RecognitionSystem(verbose=True, save_results=True, filename='Resultados para a base CMU')\n",
    "System.fit(dataset=DSL, user_column='subject', param_grid=param_grid)\n",
    "fim = time.time() - inic"
   ]
  }
 ],
 "metadata": {
  "kernelspec": {
   "display_name": "Python 3",
   "language": "python",
   "name": "python3"
  },
  "language_info": {
   "codemirror_mode": {
    "name": "ipython",
    "version": 3
   },
   "file_extension": ".py",
   "mimetype": "text/x-python",
   "name": "python",
   "nbconvert_exporter": "python",
   "pygments_lexer": "ipython3",
   "version": "3.6.4"
  }
 },
 "nbformat": 4,
 "nbformat_minor": 2
}
