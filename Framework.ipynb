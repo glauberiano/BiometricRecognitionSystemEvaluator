{
 "cells": [
  {
   "cell_type": "code",
   "execution_count": null,
   "metadata": {},
   "outputs": [],
   "source": [
    "#import packages\n",
    "import pandas as pd\n",
    "import numpy as np\n",
    "import IPython.core.display as ipd\n",
    "import os\n",
    "import sys\n",
    "import time\n",
    "import matplotlib.pyplot as plt\n",
    "from collections import Counter\n",
    "import pickle\n",
    "\n",
    "#set configurations\n",
    "pd.set_option('max_columns', 1000)\n",
    "pd.set_option('max_rows', 1000)\n",
    "\n",
    "%load_ext autoreload\n",
    "%autoreload 2\n",
    "\n",
    "from Biometrics import RecognitionSystem\n",
    "\n",
    "from IPython.core.interactiveshell import InteractiveShell\n",
    "InteractiveShell.ast_node_interactivity = 'all'\n",
    "\n",
    "%matplotlib inline"
   ]
  },
  {
   "cell_type": "markdown",
   "metadata": {},
   "source": [
    "# Completo"
   ]
  },
  {
   "cell_type": "code",
   "execution_count": null,
   "metadata": {},
   "outputs": [],
   "source": [
    "inic = time.time()\n",
    "\n",
    "param_grid = [\n",
    "    {'method':['OCSVM', 'M2005', 'Statistic'],\n",
    "     'base' : ['easy', 'strong', 'logical', 'DSL', 'greyc'],\n",
    "    'impostor_rate' : [0.3, 0.5, 0.7],\n",
    "    'model_size' : [40],\n",
    "    'rate_external_impostor' : [0.5],\n",
    "    'sampling': ['Random', 'GenFirst', 'ImpFirst'],\n",
    "    'normalize': [False],\n",
    "    'adaptive' : [False, 'GrowingWindow', 'SlidingWindow']}\n",
    "]\n",
    "\n",
    "System = RecognitionSystem(verbose=True, save_results=False)\n",
    "System.fit(user_column='subject', param_grid=param_grid)\n",
    "fim = time.time() - inic\n",
    "\n",
    "temp = System.summary()\n",
    "temp.to_csv(\"resultados/OCSVM_growing.csv\", index=False)"
   ]
  },
  {
   "cell_type": "code",
   "execution_count": null,
   "metadata": {},
   "outputs": [],
   "source": []
  }
 ],
 "metadata": {
  "kernelspec": {
   "display_name": "Python 3",
   "language": "python",
   "name": "python3"
  },
  "language_info": {
   "codemirror_mode": {
    "name": "ipython",
    "version": 3
   },
   "file_extension": ".py",
   "mimetype": "text/x-python",
   "name": "python",
   "nbconvert_exporter": "python",
   "pygments_lexer": "ipython3",
   "version": "3.6.4"
  }
 },
 "nbformat": 4,
 "nbformat_minor": 2
}
