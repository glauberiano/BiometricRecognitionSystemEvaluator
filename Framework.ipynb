{
 "cells": [
  {
   "cell_type": "code",
   "execution_count": null,
   "metadata": {},
   "outputs": [],
   "source": [
    "#import packages\n",
    "import pandas as pd\n",
    "import numpy as np\n",
    "import IPython.core.display as ipd\n",
    "from IPython.core.interactiveshell import InteractiveShell\n",
    "InteractiveShell.ast_node_interactivity = 'all'\n",
    "import os\n",
    "import sys\n",
    "import time\n",
    "\n",
    "#set configurations\n",
    "pd.set_option('max_columns', 500)\n",
    "pd.set_option('max_rows', 500)\n",
    "\n",
    "%load_ext autoreload\n",
    "%autoreload 2\n",
    "\n",
    "\n",
    "%matplotlib inline"
   ]
  },
  {
   "cell_type": "markdown",
   "metadata": {},
   "source": [
    "# Completo"
   ]
  },
  {
   "cell_type": "code",
   "execution_count": null,
   "metadata": {},
   "outputs": [],
   "source": [
    "inic = time.time()\n",
    "from Biometrics import RecognitionSystem\n",
    "\n",
    "param_grid = [\n",
    "    {'method':['OCSVM',  'OCSVM', 'Statistical'],\n",
    "     'base' : ['easy', 'strong', 'logical', 'DSL', 'greyc'],\n",
    "    'impostor_rate' : [0.3, 0.5, 0.7],\n",
    "    'model_size' : [40],\n",
    "    'rate_external_impostor' : [0.5],\n",
    "    'sampling': ['Random', 'GenFirst', 'ImpFirst'],\n",
    "    'normalize': ['False'],\n",
    "    'adaptive' : [False, 'GrowingWindow', 'SlidingWindow']}\n",
    "]\n",
    "\n",
    "System = RecognitionSystem(verbose=True, random_state=True)\n",
    "System.fit(user_column='subject', param_grid=param_grid)\n",
    "fim = time.time() - inic\n",
    "\n",
    "results = System.summary()\n",
    "results.to_csv(\"resultados/results.csv\", index=False)"
   ]
  }
 ],
 "metadata": {
  "kernelspec": {
   "display_name": "Python 3",
   "language": "python",
   "name": "python3"
  },
  "language_info": {
   "codemirror_mode": {
    "name": "ipython",
    "version": 3
   },
   "file_extension": ".py",
   "mimetype": "text/x-python",
   "name": "python",
   "nbconvert_exporter": "python",
   "pygments_lexer": "ipython3",
   "version": "3.6.4"
  }
 },
 "nbformat": 4,
 "nbformat_minor": 2
}
